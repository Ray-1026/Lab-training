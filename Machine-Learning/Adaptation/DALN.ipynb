{
 "cells": [
  {
   "cell_type": "code",
   "execution_count": 1,
   "metadata": {},
   "outputs": [],
   "source": [
    "import numpy as np\n",
    "import cv2\n",
    "import torch\n",
    "import torch.nn as nn\n",
    "import torch.nn.functional as F\n",
    "from torch.autograd import Function\n",
    "\n",
    "import torch.optim as optim\n",
    "import torchvision.transforms as transforms\n",
    "from torchvision.datasets import ImageFolder\n",
    "from torch.utils.data import DataLoader\n",
    "\n",
    "from rich.progress import (\n",
    "    Progress,\n",
    "    TextColumn,\n",
    "    BarColumn,\n",
    "    TimeElapsedColumn,\n",
    "    TimeRemainingColumn,\n",
    ")\n",
    "import time"
   ]
  },
  {
   "cell_type": "code",
   "execution_count": 2,
   "metadata": {},
   "outputs": [],
   "source": [
    "myseed = 6666  # set a random seed for reproducibility\n",
    "torch.backends.cudnn.deterministic = True\n",
    "torch.backends.cudnn.benchmark = False\n",
    "np.random.seed(myseed)\n",
    "torch.manual_seed(myseed)\n",
    "if torch.cuda.is_available():\n",
    "    torch.cuda.manual_seed_all(myseed)"
   ]
  },
  {
   "cell_type": "code",
   "execution_count": 3,
   "metadata": {},
   "outputs": [],
   "source": [
    "source_transform = transforms.Compose(\n",
    "    [\n",
    "        # Turn RGB to grayscale. (Bacause Canny do not support RGB images.)\n",
    "        transforms.Grayscale(),\n",
    "        # cv2 do not support skimage.Image, so we transform it to np.array,\n",
    "        # and then adopt cv2.Canny algorithm.\n",
    "        transforms.Lambda(lambda x: cv2.Canny(np.array(x), 170, 300)),\n",
    "        # Transform np.array back to the skimage.Image.\n",
    "        transforms.ToPILImage(),\n",
    "        # 50% Horizontal Flip. (For Augmentation)\n",
    "        transforms.RandomHorizontalFlip(),\n",
    "        # Rotate +- 15 degrees. (For Augmentation), and filled with zero\n",
    "        # if there's empty pixel after rotation.\n",
    "        transforms.RandomRotation(15, fill=(0,)),\n",
    "        # Transform to tensor for model inputs.\n",
    "        transforms.ToTensor(),\n",
    "    ]\n",
    ")\n",
    "target_transform = transforms.Compose(\n",
    "    [\n",
    "        # Turn RGB to grayscale.\n",
    "        transforms.Grayscale(),\n",
    "        # Resize: size of source data is 32x32, thus we need to\n",
    "        #  enlarge the size of target data from 28x28 to 32x32。\n",
    "        transforms.Resize((32, 32)),\n",
    "        # 50% Horizontal Flip. (For Augmentation)\n",
    "        transforms.RandomHorizontalFlip(),\n",
    "        # Rotate +- 15 degrees. (For Augmentation), and filled with zero\n",
    "        # if there's empty pixel after rotation.\n",
    "        transforms.RandomRotation(15, fill=(0,)),\n",
    "        # Transform to tensor for model inputs.\n",
    "        transforms.ToTensor(),\n",
    "    ]\n",
    ")\n",
    "\n",
    "source_dataset = ImageFolder(\"real_or_drawing/train_data\", transform=source_transform)\n",
    "target_dataset = ImageFolder(\"real_or_drawing/test_data\", transform=target_transform)\n",
    "\n",
    "source_dataloader = DataLoader(source_dataset, batch_size=20, shuffle=True)\n",
    "target_dataloader = DataLoader(target_dataset, batch_size=20, shuffle=True)\n",
    "test_dataloader = DataLoader(target_dataset, batch_size=128, shuffle=False)\n"
   ]
  },
  {
   "cell_type": "markdown",
   "metadata": {},
   "source": [
    "## Models"
   ]
  },
  {
   "cell_type": "code",
   "execution_count": 4,
   "metadata": {},
   "outputs": [],
   "source": [
    "# grl\n",
    "from torch.autograd import Function\n",
    "\n",
    "\n",
    "class GradientReverseFunction(Function):\n",
    "    @staticmethod\n",
    "    def forward(ctx, x, coeff):\n",
    "        ctx.coeff = coeff\n",
    "        output = x * 1.0\n",
    "        return output\n",
    "\n",
    "    @staticmethod\n",
    "    def backward(ctx, grad_output):\n",
    "        return grad_output.neg() * ctx.coeff, None\n",
    "\n",
    "\n",
    "class GradientReverseLayer(nn.Module):\n",
    "    def __init__(self):\n",
    "        super(GradientReverseLayer, self).__init__()\n",
    "\n",
    "    def forward(self, *input):\n",
    "        return GradientReverseFunction.apply(*input)\n",
    "\n",
    "\n",
    "class WarmStartGradientReverseLayer(nn.Module):\n",
    "    def __init__(self, alpha=1.0, lo=0.0, hi=1.0, max_iters=1000.0, auto_step=True):\n",
    "        super(WarmStartGradientReverseLayer, self).__init__()\n",
    "        self.alpha = alpha\n",
    "        self.lo = lo\n",
    "        self.hi = hi\n",
    "        self.iter_num = 0\n",
    "        self.max_iters = max_iters\n",
    "        self.auto_step = auto_step\n",
    "\n",
    "    def forward(self, x):\n",
    "        coeff = np.float64(2.0 * (self.hi - self.lo) / (1.0 + np.exp(-self.alpha * self.iter_num / self.max_iters)) - (self.hi - self.lo) + self.lo)\n",
    "\n",
    "        if self.auto_step:\n",
    "            self.step()\n",
    "        \n",
    "        return GradientReverseFunction.apply(x, coeff)\n",
    "    \n",
    "    def step(self):\n",
    "        self.iter_num += 1\n"
   ]
  },
  {
   "cell_type": "code",
   "execution_count": 5,
   "metadata": {},
   "outputs": [],
   "source": [
    "# nwd\n",
    "class NuclearWassersteinDiscrepancy(nn.Module):\n",
    "    def __init__(self, classifier):\n",
    "        super(NuclearWassersteinDiscrepancy, self).__init__()\n",
    "        self.grl = WarmStartGradientReverseLayer(alpha=1.0, lo=0.0, hi=1.0, max_iters=1000.0, auto_step=True)\n",
    "        self.classifier = classifier\n",
    "\n",
    "    @staticmethod\n",
    "    def n_discrepancy(y_s, y_t):\n",
    "        pre_s, pre_t = F.softmax(y_s, dim=1), F.softmax(y_t, dim=1)\n",
    "        loss = (-torch.norm(pre_t, 'nuc') + torch.norm(pre_s, 'nuc')) / y_t.shape[0]\n",
    "        return loss\n",
    "    \n",
    "    def forward(self, f):\n",
    "        f_grl = self.grl(f)\n",
    "        y = self.classifier(f_grl.squeeze())\n",
    "        y_s, y_t = y.chunk(2, dim=0)\n",
    "\n",
    "        loss = self.n_discrepancy(y_s, y_t)\n",
    "        return loss\n"
   ]
  },
  {
   "cell_type": "code",
   "execution_count": 6,
   "metadata": {},
   "outputs": [],
   "source": [
    "class Classifier(nn.Module):\n",
    "    def __init__(self):\n",
    "        super(Classifier, self).__init__()\n",
    "\n",
    "        self.feature_extractor = nn.Sequential(\n",
    "            nn.Conv2d(1, 64, 3, 1, 1),\n",
    "            nn.BatchNorm2d(64),\n",
    "            nn.ReLU(),\n",
    "            nn.MaxPool2d(2),\n",
    "            nn.Conv2d(64, 128, 3, 1, 1),\n",
    "            nn.BatchNorm2d(128),\n",
    "            nn.ReLU(),\n",
    "            nn.MaxPool2d(2),\n",
    "            nn.Conv2d(128, 256, 3, 1, 1),\n",
    "            nn.BatchNorm2d(256),\n",
    "            nn.ReLU(),\n",
    "            nn.MaxPool2d(2),\n",
    "            nn.Conv2d(256, 256, 3, 1, 1),\n",
    "            nn.BatchNorm2d(256),\n",
    "            nn.ReLU(),\n",
    "            nn.MaxPool2d(2),\n",
    "            nn.Conv2d(256, 512, 3, 1, 1),\n",
    "            nn.BatchNorm2d(512),\n",
    "            nn.ReLU(),\n",
    "            nn.MaxPool2d(2),\n",
    "        )\n",
    "\n",
    "        self.fc = nn.Sequential(\n",
    "            nn.Linear(512, 512),\n",
    "            nn.ReLU(),\n",
    "            nn.Linear(512, 512),\n",
    "            nn.ReLU(),\n",
    "            nn.Linear(512, 10),\n",
    "        )\n",
    "\n",
    "    def forward(self, x):\n",
    "        f = self.feature_extractor(x)\n",
    "        y = self.fc(f.squeeze())\n",
    "\n",
    "        return y, f\n"
   ]
  },
  {
   "cell_type": "markdown",
   "metadata": {},
   "source": [
    "## Pre-processing"
   ]
  },
  {
   "cell_type": "code",
   "execution_count": 7,
   "metadata": {},
   "outputs": [],
   "source": [
    "classifier = Classifier().cuda()\n",
    "nwd = NuclearWassersteinDiscrepancy(classifier.fc).cuda()\n",
    "\n",
    "criterion = nn.CrossEntropyLoss()\n",
    "\n",
    "optimizer = optim.SGD(classifier.parameters(), lr=0.005, momentum=0.9, weight_decay=1e-3)\n"
   ]
  },
  {
   "cell_type": "markdown",
   "metadata": {},
   "source": [
    "## Start training"
   ]
  },
  {
   "cell_type": "code",
   "execution_count": 8,
   "metadata": {},
   "outputs": [
    {
     "data": {
      "application/vnd.jupyter.widget-view+json": {
       "model_id": "8909cf4f5c5a4cf8ab44229807bbd526",
       "version_major": 2,
       "version_minor": 0
      },
      "text/plain": [
       "Output()"
      ]
     },
     "metadata": {},
     "output_type": "display_data"
    },
    {
     "data": {
      "text/html": [
       "<pre style=\"white-space:pre;overflow-x:auto;line-height:normal;font-family:Menlo,'DejaVu Sans Mono',consolas,'Courier New',monospace\">epoch   5: train loss: 1.3142\n",
       "</pre>\n"
      ],
      "text/plain": [
       "epoch   5: train loss: 1.3142\n"
      ]
     },
     "metadata": {},
     "output_type": "display_data"
    },
    {
     "data": {
      "text/html": [
       "<pre style=\"white-space:pre;overflow-x:auto;line-height:normal;font-family:Menlo,'DejaVu Sans Mono',consolas,'Courier New',monospace\">epoch  10: train loss: 1.0986\n",
       "</pre>\n"
      ],
      "text/plain": [
       "epoch  10: train loss: 1.0986\n"
      ]
     },
     "metadata": {},
     "output_type": "display_data"
    },
    {
     "data": {
      "text/html": [
       "<pre style=\"white-space:pre;overflow-x:auto;line-height:normal;font-family:Menlo,'DejaVu Sans Mono',consolas,'Courier New',monospace\">epoch  15: train loss: 0.9502\n",
       "</pre>\n"
      ],
      "text/plain": [
       "epoch  15: train loss: 0.9502\n"
      ]
     },
     "metadata": {},
     "output_type": "display_data"
    },
    {
     "data": {
      "text/html": [
       "<pre style=\"white-space:pre;overflow-x:auto;line-height:normal;font-family:Menlo,'DejaVu Sans Mono',consolas,'Courier New',monospace\">epoch  20: train loss: 0.8457\n",
       "</pre>\n"
      ],
      "text/plain": [
       "epoch  20: train loss: 0.8457\n"
      ]
     },
     "metadata": {},
     "output_type": "display_data"
    },
    {
     "data": {
      "text/html": [
       "<pre style=\"white-space:pre;overflow-x:auto;line-height:normal;font-family:Menlo,'DejaVu Sans Mono',consolas,'Courier New',monospace\">epoch  25: train loss: 0.7077\n",
       "</pre>\n"
      ],
      "text/plain": [
       "epoch  25: train loss: 0.7077\n"
      ]
     },
     "metadata": {},
     "output_type": "display_data"
    },
    {
     "data": {
      "text/html": [
       "<pre style=\"white-space:pre;overflow-x:auto;line-height:normal;font-family:Menlo,'DejaVu Sans Mono',consolas,'Courier New',monospace\">epoch  35: train loss: 0.5287\n",
       "</pre>\n"
      ],
      "text/plain": [
       "epoch  35: train loss: 0.5287\n"
      ]
     },
     "metadata": {},
     "output_type": "display_data"
    },
    {
     "data": {
      "text/html": [
       "<pre style=\"white-space:pre;overflow-x:auto;line-height:normal;font-family:Menlo,'DejaVu Sans Mono',consolas,'Courier New',monospace\">epoch  40: train loss: 0.4656\n",
       "</pre>\n"
      ],
      "text/plain": [
       "epoch  40: train loss: 0.4656\n"
      ]
     },
     "metadata": {},
     "output_type": "display_data"
    },
    {
     "data": {
      "text/html": [
       "<pre style=\"white-space:pre;overflow-x:auto;line-height:normal;font-family:Menlo,'DejaVu Sans Mono',consolas,'Courier New',monospace\">epoch  50: train loss: 0.3135\n",
       "</pre>\n"
      ],
      "text/plain": [
       "epoch  50: train loss: 0.3135\n"
      ]
     },
     "metadata": {},
     "output_type": "display_data"
    },
    {
     "data": {
      "text/html": [
       "<pre style=\"white-space:pre;overflow-x:auto;line-height:normal;font-family:Menlo,'DejaVu Sans Mono',consolas,'Courier New',monospace\">epoch  55: train loss: 0.3115\n",
       "</pre>\n"
      ],
      "text/plain": [
       "epoch  55: train loss: 0.3115\n"
      ]
     },
     "metadata": {},
     "output_type": "display_data"
    },
    {
     "data": {
      "text/html": [
       "<pre style=\"white-space:pre;overflow-x:auto;line-height:normal;font-family:Menlo,'DejaVu Sans Mono',consolas,'Courier New',monospace\">epoch  60: train loss: 0.2971\n",
       "</pre>\n"
      ],
      "text/plain": [
       "epoch  60: train loss: 0.2971\n"
      ]
     },
     "metadata": {},
     "output_type": "display_data"
    },
    {
     "data": {
      "text/html": [
       "<pre style=\"white-space:pre;overflow-x:auto;line-height:normal;font-family:Menlo,'DejaVu Sans Mono',consolas,'Courier New',monospace\">epoch  65: train loss: 0.2664\n",
       "</pre>\n"
      ],
      "text/plain": [
       "epoch  65: train loss: 0.2664\n"
      ]
     },
     "metadata": {},
     "output_type": "display_data"
    },
    {
     "data": {
      "text/html": [
       "<pre style=\"white-space:pre;overflow-x:auto;line-height:normal;font-family:Menlo,'DejaVu Sans Mono',consolas,'Courier New',monospace\">epoch  70: train loss: 0.2240\n",
       "</pre>\n"
      ],
      "text/plain": [
       "epoch  70: train loss: 0.2240\n"
      ]
     },
     "metadata": {},
     "output_type": "display_data"
    },
    {
     "data": {
      "text/html": [
       "<pre style=\"white-space:pre;overflow-x:auto;line-height:normal;font-family:Menlo,'DejaVu Sans Mono',consolas,'Courier New',monospace\">epoch  80: train loss: 0.2324\n",
       "</pre>\n"
      ],
      "text/plain": [
       "epoch  80: train loss: 0.2324\n"
      ]
     },
     "metadata": {},
     "output_type": "display_data"
    },
    {
     "data": {
      "text/html": [
       "<pre style=\"white-space:pre;overflow-x:auto;line-height:normal;font-family:Menlo,'DejaVu Sans Mono',consolas,'Courier New',monospace\">epoch  85: train loss: 0.2018\n",
       "</pre>\n"
      ],
      "text/plain": [
       "epoch  85: train loss: 0.2018\n"
      ]
     },
     "metadata": {},
     "output_type": "display_data"
    },
    {
     "data": {
      "text/html": [
       "<pre style=\"white-space:pre;overflow-x:auto;line-height:normal;font-family:Menlo,'DejaVu Sans Mono',consolas,'Courier New',monospace\">epoch  90: train loss: 0.1698\n",
       "</pre>\n"
      ],
      "text/plain": [
       "epoch  90: train loss: 0.1698\n"
      ]
     },
     "metadata": {},
     "output_type": "display_data"
    },
    {
     "data": {
      "text/html": [
       "<pre style=\"white-space:pre;overflow-x:auto;line-height:normal;font-family:Menlo,'DejaVu Sans Mono',consolas,'Courier New',monospace\">epoch 100: train loss: 0.1694\n",
       "</pre>\n"
      ],
      "text/plain": [
       "epoch 100: train loss: 0.1694\n"
      ]
     },
     "metadata": {},
     "output_type": "display_data"
    },
    {
     "data": {
      "text/html": [
       "<pre style=\"white-space:pre;overflow-x:auto;line-height:normal;font-family:Menlo,'DejaVu Sans Mono',consolas,'Courier New',monospace\">epoch 110: train loss: 0.1727\n",
       "</pre>\n"
      ],
      "text/plain": [
       "epoch 110: train loss: 0.1727\n"
      ]
     },
     "metadata": {},
     "output_type": "display_data"
    },
    {
     "data": {
      "text/html": [
       "<pre style=\"white-space:pre;overflow-x:auto;line-height:normal;font-family:Menlo,'DejaVu Sans Mono',consolas,'Courier New',monospace\">epoch 115: train loss: 0.2102\n",
       "</pre>\n"
      ],
      "text/plain": [
       "epoch 115: train loss: 0.2102\n"
      ]
     },
     "metadata": {},
     "output_type": "display_data"
    },
    {
     "data": {
      "text/html": [
       "<pre style=\"white-space:pre;overflow-x:auto;line-height:normal;font-family:Menlo,'DejaVu Sans Mono',consolas,'Courier New',monospace\">epoch 120: train loss: 0.1851\n",
       "</pre>\n"
      ],
      "text/plain": [
       "epoch 120: train loss: 0.1851\n"
      ]
     },
     "metadata": {},
     "output_type": "display_data"
    },
    {
     "data": {
      "text/html": [
       "<pre style=\"white-space:pre;overflow-x:auto;line-height:normal;font-family:Menlo,'DejaVu Sans Mono',consolas,'Courier New',monospace\">epoch 125: train loss: 0.1769\n",
       "</pre>\n"
      ],
      "text/plain": [
       "epoch 125: train loss: 0.1769\n"
      ]
     },
     "metadata": {},
     "output_type": "display_data"
    },
    {
     "data": {
      "text/html": [
       "<pre style=\"white-space:pre;overflow-x:auto;line-height:normal;font-family:Menlo,'DejaVu Sans Mono',consolas,'Courier New',monospace\">epoch 130: train loss: 0.1692\n",
       "</pre>\n"
      ],
      "text/plain": [
       "epoch 130: train loss: 0.1692\n"
      ]
     },
     "metadata": {},
     "output_type": "display_data"
    },
    {
     "data": {
      "text/html": [
       "<pre style=\"white-space:pre;overflow-x:auto;line-height:normal;font-family:Menlo,'DejaVu Sans Mono',consolas,'Courier New',monospace\">epoch 135: train loss: 0.1649\n",
       "</pre>\n"
      ],
      "text/plain": [
       "epoch 135: train loss: 0.1649\n"
      ]
     },
     "metadata": {},
     "output_type": "display_data"
    },
    {
     "data": {
      "text/html": [
       "<pre style=\"white-space:pre;overflow-x:auto;line-height:normal;font-family:Menlo,'DejaVu Sans Mono',consolas,'Courier New',monospace\">epoch 140: train loss: 0.1639\n",
       "</pre>\n"
      ],
      "text/plain": [
       "epoch 140: train loss: 0.1639\n"
      ]
     },
     "metadata": {},
     "output_type": "display_data"
    },
    {
     "data": {
      "text/html": [
       "<pre style=\"white-space:pre;overflow-x:auto;line-height:normal;font-family:Menlo,'DejaVu Sans Mono',consolas,'Courier New',monospace\">epoch 145: train loss: 0.1729\n",
       "</pre>\n"
      ],
      "text/plain": [
       "epoch 145: train loss: 0.1729\n"
      ]
     },
     "metadata": {},
     "output_type": "display_data"
    },
    {
     "data": {
      "text/html": [
       "<pre style=\"white-space:pre;overflow-x:auto;line-height:normal;font-family:Menlo,'DejaVu Sans Mono',consolas,'Courier New',monospace\">epoch 150: train loss: 0.2042\n",
       "</pre>\n"
      ],
      "text/plain": [
       "epoch 150: train loss: 0.2042\n"
      ]
     },
     "metadata": {},
     "output_type": "display_data"
    },
    {
     "data": {
      "text/html": [
       "<pre style=\"white-space:pre;overflow-x:auto;line-height:normal;font-family:Menlo,'DejaVu Sans Mono',consolas,'Courier New',monospace\">epoch 155: train loss: 0.1585\n",
       "</pre>\n"
      ],
      "text/plain": [
       "epoch 155: train loss: 0.1585\n"
      ]
     },
     "metadata": {},
     "output_type": "display_data"
    },
    {
     "data": {
      "text/html": [
       "<pre style=\"white-space:pre;overflow-x:auto;line-height:normal;font-family:Menlo,'DejaVu Sans Mono',consolas,'Courier New',monospace\">epoch 160: train loss: 0.1576\n",
       "</pre>\n"
      ],
      "text/plain": [
       "epoch 160: train loss: 0.1576\n"
      ]
     },
     "metadata": {},
     "output_type": "display_data"
    },
    {
     "data": {
      "text/html": [
       "<pre style=\"white-space:pre;overflow-x:auto;line-height:normal;font-family:Menlo,'DejaVu Sans Mono',consolas,'Courier New',monospace\">epoch 165: train loss: 0.1827\n",
       "</pre>\n"
      ],
      "text/plain": [
       "epoch 165: train loss: 0.1827\n"
      ]
     },
     "metadata": {},
     "output_type": "display_data"
    },
    {
     "data": {
      "text/html": [
       "<pre style=\"white-space:pre;overflow-x:auto;line-height:normal;font-family:Menlo,'DejaVu Sans Mono',consolas,'Courier New',monospace\">epoch 170: train loss: 0.1579\n",
       "</pre>\n"
      ],
      "text/plain": [
       "epoch 170: train loss: 0.1579\n"
      ]
     },
     "metadata": {},
     "output_type": "display_data"
    },
    {
     "data": {
      "text/html": [
       "<pre style=\"white-space:pre;overflow-x:auto;line-height:normal;font-family:Menlo,'DejaVu Sans Mono',consolas,'Courier New',monospace\">epoch 175: train loss: 0.1608\n",
       "</pre>\n"
      ],
      "text/plain": [
       "epoch 175: train loss: 0.1608\n"
      ]
     },
     "metadata": {},
     "output_type": "display_data"
    },
    {
     "data": {
      "text/html": [
       "<pre style=\"white-space:pre;overflow-x:auto;line-height:normal;font-family:Menlo,'DejaVu Sans Mono',consolas,'Courier New',monospace\">epoch 180: train loss: 0.1577\n",
       "</pre>\n"
      ],
      "text/plain": [
       "epoch 180: train loss: 0.1577\n"
      ]
     },
     "metadata": {},
     "output_type": "display_data"
    },
    {
     "data": {
      "text/html": [
       "<pre style=\"white-space:pre;overflow-x:auto;line-height:normal;font-family:Menlo,'DejaVu Sans Mono',consolas,'Courier New',monospace\">epoch 185: train loss: 0.1753\n",
       "</pre>\n"
      ],
      "text/plain": [
       "epoch 185: train loss: 0.1753\n"
      ]
     },
     "metadata": {},
     "output_type": "display_data"
    },
    {
     "data": {
      "text/html": [
       "<pre style=\"white-space:pre;overflow-x:auto;line-height:normal;font-family:Menlo,'DejaVu Sans Mono',consolas,'Courier New',monospace\">epoch 190: train loss: 0.1581\n",
       "</pre>\n"
      ],
      "text/plain": [
       "epoch 190: train loss: 0.1581\n"
      ]
     },
     "metadata": {},
     "output_type": "display_data"
    },
    {
     "data": {
      "text/html": [
       "<pre style=\"white-space:pre;overflow-x:auto;line-height:normal;font-family:Menlo,'DejaVu Sans Mono',consolas,'Courier New',monospace\">epoch 200: train loss: 0.1800\n",
       "</pre>\n"
      ],
      "text/plain": [
       "epoch 200: train loss: 0.1800\n"
      ]
     },
     "metadata": {},
     "output_type": "display_data"
    },
    {
     "data": {
      "text/html": [
       "<pre style=\"white-space:pre;overflow-x:auto;line-height:normal;font-family:Menlo,'DejaVu Sans Mono',consolas,'Courier New',monospace\">epoch 205: train loss: 0.1568\n",
       "</pre>\n"
      ],
      "text/plain": [
       "epoch 205: train loss: 0.1568\n"
      ]
     },
     "metadata": {},
     "output_type": "display_data"
    },
    {
     "data": {
      "text/html": [
       "<pre style=\"white-space:pre;overflow-x:auto;line-height:normal;font-family:Menlo,'DejaVu Sans Mono',consolas,'Courier New',monospace\">epoch 210: train loss: 0.1769\n",
       "</pre>\n"
      ],
      "text/plain": [
       "epoch 210: train loss: 0.1769\n"
      ]
     },
     "metadata": {},
     "output_type": "display_data"
    },
    {
     "data": {
      "text/html": [
       "<pre style=\"white-space:pre;overflow-x:auto;line-height:normal;font-family:Menlo,'DejaVu Sans Mono',consolas,'Courier New',monospace\">epoch 215: train loss: 0.1792\n",
       "</pre>\n"
      ],
      "text/plain": [
       "epoch 215: train loss: 0.1792\n"
      ]
     },
     "metadata": {},
     "output_type": "display_data"
    },
    {
     "data": {
      "text/html": [
       "<pre style=\"white-space:pre;overflow-x:auto;line-height:normal;font-family:Menlo,'DejaVu Sans Mono',consolas,'Courier New',monospace\">epoch 220: train loss: 0.1728\n",
       "</pre>\n"
      ],
      "text/plain": [
       "epoch 220: train loss: 0.1728\n"
      ]
     },
     "metadata": {},
     "output_type": "display_data"
    },
    {
     "data": {
      "text/html": [
       "<pre style=\"white-space:pre;overflow-x:auto;line-height:normal;font-family:Menlo,'DejaVu Sans Mono',consolas,'Courier New',monospace\">epoch 225: train loss: 0.1280\n",
       "</pre>\n"
      ],
      "text/plain": [
       "epoch 225: train loss: 0.1280\n"
      ]
     },
     "metadata": {},
     "output_type": "display_data"
    },
    {
     "data": {
      "text/html": [
       "<pre style=\"white-space:pre;overflow-x:auto;line-height:normal;font-family:Menlo,'DejaVu Sans Mono',consolas,'Courier New',monospace\">epoch 235: train loss: 0.1658\n",
       "</pre>\n"
      ],
      "text/plain": [
       "epoch 235: train loss: 0.1658\n"
      ]
     },
     "metadata": {},
     "output_type": "display_data"
    },
    {
     "data": {
      "text/html": [
       "<pre style=\"white-space:pre;overflow-x:auto;line-height:normal;font-family:Menlo,'DejaVu Sans Mono',consolas,'Courier New',monospace\">epoch 250: train loss: 0.1594\n",
       "</pre>\n"
      ],
      "text/plain": [
       "epoch 250: train loss: 0.1594\n"
      ]
     },
     "metadata": {},
     "output_type": "display_data"
    },
    {
     "data": {
      "text/html": [
       "<pre style=\"white-space:pre;overflow-x:auto;line-height:normal;font-family:Menlo,'DejaVu Sans Mono',consolas,'Courier New',monospace\">epoch 255: train loss: 0.1303\n",
       "</pre>\n"
      ],
      "text/plain": [
       "epoch 255: train loss: 0.1303\n"
      ]
     },
     "metadata": {},
     "output_type": "display_data"
    },
    {
     "data": {
      "text/html": [
       "<pre style=\"white-space:pre;overflow-x:auto;line-height:normal;font-family:Menlo,'DejaVu Sans Mono',consolas,'Courier New',monospace\">epoch 260: train loss: 0.1661\n",
       "</pre>\n"
      ],
      "text/plain": [
       "epoch 260: train loss: 0.1661\n"
      ]
     },
     "metadata": {},
     "output_type": "display_data"
    },
    {
     "data": {
      "text/html": [
       "<pre style=\"white-space:pre;overflow-x:auto;line-height:normal;font-family:Menlo,'DejaVu Sans Mono',consolas,'Courier New',monospace\">epoch 265: train loss: 0.1528\n",
       "</pre>\n"
      ],
      "text/plain": [
       "epoch 265: train loss: 0.1528\n"
      ]
     },
     "metadata": {},
     "output_type": "display_data"
    },
    {
     "data": {
      "text/html": [
       "<pre style=\"white-space:pre;overflow-x:auto;line-height:normal;font-family:Menlo,'DejaVu Sans Mono',consolas,'Courier New',monospace\">epoch 270: train loss: 0.1576\n",
       "</pre>\n"
      ],
      "text/plain": [
       "epoch 270: train loss: 0.1576\n"
      ]
     },
     "metadata": {},
     "output_type": "display_data"
    },
    {
     "data": {
      "text/html": [
       "<pre style=\"white-space:pre;overflow-x:auto;line-height:normal;font-family:Menlo,'DejaVu Sans Mono',consolas,'Courier New',monospace\">epoch 275: train loss: 0.1430\n",
       "</pre>\n"
      ],
      "text/plain": [
       "epoch 275: train loss: 0.1430\n"
      ]
     },
     "metadata": {},
     "output_type": "display_data"
    },
    {
     "data": {
      "text/html": [
       "<pre style=\"white-space:pre;overflow-x:auto;line-height:normal;font-family:Menlo,'DejaVu Sans Mono',consolas,'Courier New',monospace\">epoch 280: train loss: 0.1293\n",
       "</pre>\n"
      ],
      "text/plain": [
       "epoch 280: train loss: 0.1293\n"
      ]
     },
     "metadata": {},
     "output_type": "display_data"
    },
    {
     "data": {
      "text/html": [
       "<pre style=\"white-space:pre;overflow-x:auto;line-height:normal;font-family:Menlo,'DejaVu Sans Mono',consolas,'Courier New',monospace\">epoch 285: train loss: 0.1541\n",
       "</pre>\n"
      ],
      "text/plain": [
       "epoch 285: train loss: 0.1541\n"
      ]
     },
     "metadata": {},
     "output_type": "display_data"
    },
    {
     "data": {
      "text/html": [
       "<pre style=\"white-space:pre;overflow-x:auto;line-height:normal;font-family:Menlo,'DejaVu Sans Mono',consolas,'Courier New',monospace\">epoch 290: train loss: 0.1520\n",
       "</pre>\n"
      ],
      "text/plain": [
       "epoch 290: train loss: 0.1520\n"
      ]
     },
     "metadata": {},
     "output_type": "display_data"
    },
    {
     "data": {
      "text/html": [
       "<pre style=\"white-space:pre;overflow-x:auto;line-height:normal;font-family:Menlo,'DejaVu Sans Mono',consolas,'Courier New',monospace\">epoch 295: train loss: 0.1448\n",
       "</pre>\n"
      ],
      "text/plain": [
       "epoch 295: train loss: 0.1448\n"
      ]
     },
     "metadata": {},
     "output_type": "display_data"
    },
    {
     "data": {
      "text/html": [
       "<pre style=\"white-space:pre;overflow-x:auto;line-height:normal;font-family:Menlo,'DejaVu Sans Mono',consolas,'Courier New',monospace\">epoch 300: train loss: 0.1451\n",
       "</pre>\n"
      ],
      "text/plain": [
       "epoch 300: train loss: 0.1451\n"
      ]
     },
     "metadata": {},
     "output_type": "display_data"
    },
    {
     "data": {
      "text/html": [
       "<pre style=\"white-space:pre;overflow-x:auto;line-height:normal;font-family:Menlo,'DejaVu Sans Mono',consolas,'Courier New',monospace\">epoch 305: train loss: 0.1450\n",
       "</pre>\n"
      ],
      "text/plain": [
       "epoch 305: train loss: 0.1450\n"
      ]
     },
     "metadata": {},
     "output_type": "display_data"
    },
    {
     "data": {
      "text/html": [
       "<pre style=\"white-space:pre;overflow-x:auto;line-height:normal;font-family:Menlo,'DejaVu Sans Mono',consolas,'Courier New',monospace\">epoch 310: train loss: 0.1411\n",
       "</pre>\n"
      ],
      "text/plain": [
       "epoch 310: train loss: 0.1411\n"
      ]
     },
     "metadata": {},
     "output_type": "display_data"
    },
    {
     "data": {
      "text/html": [
       "<pre style=\"white-space:pre;overflow-x:auto;line-height:normal;font-family:Menlo,'DejaVu Sans Mono',consolas,'Courier New',monospace\">epoch 315: train loss: 0.1585\n",
       "</pre>\n"
      ],
      "text/plain": [
       "epoch 315: train loss: 0.1585\n"
      ]
     },
     "metadata": {},
     "output_type": "display_data"
    },
    {
     "data": {
      "text/html": [
       "<pre style=\"white-space:pre;overflow-x:auto;line-height:normal;font-family:Menlo,'DejaVu Sans Mono',consolas,'Courier New',monospace\">epoch 320: train loss: 0.1431\n",
       "</pre>\n"
      ],
      "text/plain": [
       "epoch 320: train loss: 0.1431\n"
      ]
     },
     "metadata": {},
     "output_type": "display_data"
    },
    {
     "data": {
      "text/html": [
       "<pre style=\"white-space:pre;overflow-x:auto;line-height:normal;font-family:Menlo,'DejaVu Sans Mono',consolas,'Courier New',monospace\">epoch 325: train loss: 0.1644\n",
       "</pre>\n"
      ],
      "text/plain": [
       "epoch 325: train loss: 0.1644\n"
      ]
     },
     "metadata": {},
     "output_type": "display_data"
    },
    {
     "data": {
      "text/html": [
       "<pre style=\"white-space:pre;overflow-x:auto;line-height:normal;font-family:Menlo,'DejaVu Sans Mono',consolas,'Courier New',monospace\">epoch 330: train loss: 0.1290\n",
       "</pre>\n"
      ],
      "text/plain": [
       "epoch 330: train loss: 0.1290\n"
      ]
     },
     "metadata": {},
     "output_type": "display_data"
    },
    {
     "data": {
      "text/html": [
       "<pre style=\"white-space:pre;overflow-x:auto;line-height:normal;font-family:Menlo,'DejaVu Sans Mono',consolas,'Courier New',monospace\">epoch 335: train loss: 0.1518\n",
       "</pre>\n"
      ],
      "text/plain": [
       "epoch 335: train loss: 0.1518\n"
      ]
     },
     "metadata": {},
     "output_type": "display_data"
    },
    {
     "data": {
      "text/html": [
       "<pre style=\"white-space:pre;overflow-x:auto;line-height:normal;font-family:Menlo,'DejaVu Sans Mono',consolas,'Courier New',monospace\">epoch 340: train loss: 0.1329\n",
       "</pre>\n"
      ],
      "text/plain": [
       "epoch 340: train loss: 0.1329\n"
      ]
     },
     "metadata": {},
     "output_type": "display_data"
    },
    {
     "data": {
      "text/html": [
       "<pre style=\"white-space:pre;overflow-x:auto;line-height:normal;font-family:Menlo,'DejaVu Sans Mono',consolas,'Courier New',monospace\">epoch 345: train loss: 0.1402\n",
       "</pre>\n"
      ],
      "text/plain": [
       "epoch 345: train loss: 0.1402\n"
      ]
     },
     "metadata": {},
     "output_type": "display_data"
    },
    {
     "data": {
      "text/html": [
       "<pre style=\"white-space:pre;overflow-x:auto;line-height:normal;font-family:Menlo,'DejaVu Sans Mono',consolas,'Courier New',monospace\">epoch 355: train loss: 0.1539\n",
       "</pre>\n"
      ],
      "text/plain": [
       "epoch 355: train loss: 0.1539\n"
      ]
     },
     "metadata": {},
     "output_type": "display_data"
    },
    {
     "data": {
      "text/html": [
       "<pre style=\"white-space:pre;overflow-x:auto;line-height:normal;font-family:Menlo,'DejaVu Sans Mono',consolas,'Courier New',monospace\">epoch 360: train loss: 0.1287\n",
       "</pre>\n"
      ],
      "text/plain": [
       "epoch 360: train loss: 0.1287\n"
      ]
     },
     "metadata": {},
     "output_type": "display_data"
    },
    {
     "data": {
      "text/html": [
       "<pre style=\"white-space:pre;overflow-x:auto;line-height:normal;font-family:Menlo,'DejaVu Sans Mono',consolas,'Courier New',monospace\">epoch 365: train loss: 0.1645\n",
       "</pre>\n"
      ],
      "text/plain": [
       "epoch 365: train loss: 0.1645\n"
      ]
     },
     "metadata": {},
     "output_type": "display_data"
    },
    {
     "data": {
      "text/html": [
       "<pre style=\"white-space:pre;overflow-x:auto;line-height:normal;font-family:Menlo,'DejaVu Sans Mono',consolas,'Courier New',monospace\">epoch 370: train loss: 0.1485\n",
       "</pre>\n"
      ],
      "text/plain": [
       "epoch 370: train loss: 0.1485\n"
      ]
     },
     "metadata": {},
     "output_type": "display_data"
    },
    {
     "data": {
      "text/html": [
       "<pre style=\"white-space:pre;overflow-x:auto;line-height:normal;font-family:Menlo,'DejaVu Sans Mono',consolas,'Courier New',monospace\">epoch 375: train loss: 0.1261\n",
       "</pre>\n"
      ],
      "text/plain": [
       "epoch 375: train loss: 0.1261\n"
      ]
     },
     "metadata": {},
     "output_type": "display_data"
    },
    {
     "data": {
      "text/html": [
       "<pre style=\"white-space:pre;overflow-x:auto;line-height:normal;font-family:Menlo,'DejaVu Sans Mono',consolas,'Courier New',monospace\">epoch 380: train loss: 0.1384\n",
       "</pre>\n"
      ],
      "text/plain": [
       "epoch 380: train loss: 0.1384\n"
      ]
     },
     "metadata": {},
     "output_type": "display_data"
    },
    {
     "data": {
      "text/html": [
       "<pre style=\"white-space:pre;overflow-x:auto;line-height:normal;font-family:Menlo,'DejaVu Sans Mono',consolas,'Courier New',monospace\">epoch 385: train loss: 0.1315\n",
       "</pre>\n"
      ],
      "text/plain": [
       "epoch 385: train loss: 0.1315\n"
      ]
     },
     "metadata": {},
     "output_type": "display_data"
    },
    {
     "data": {
      "text/html": [
       "<pre style=\"white-space:pre;overflow-x:auto;line-height:normal;font-family:Menlo,'DejaVu Sans Mono',consolas,'Courier New',monospace\">epoch 390: train loss: 0.1186\n",
       "</pre>\n"
      ],
      "text/plain": [
       "epoch 390: train loss: 0.1186\n"
      ]
     },
     "metadata": {},
     "output_type": "display_data"
    },
    {
     "data": {
      "text/html": [
       "<pre style=\"white-space:pre;overflow-x:auto;line-height:normal;font-family:Menlo,'DejaVu Sans Mono',consolas,'Courier New',monospace\">epoch 395: train loss: 0.1374\n",
       "</pre>\n"
      ],
      "text/plain": [
       "epoch 395: train loss: 0.1374\n"
      ]
     },
     "metadata": {},
     "output_type": "display_data"
    },
    {
     "data": {
      "text/html": [
       "<pre style=\"white-space:pre;overflow-x:auto;line-height:normal;font-family:Menlo,'DejaVu Sans Mono',consolas,'Courier New',monospace\">epoch 400: train loss: 0.1549\n",
       "</pre>\n"
      ],
      "text/plain": [
       "epoch 400: train loss: 0.1549\n"
      ]
     },
     "metadata": {},
     "output_type": "display_data"
    },
    {
     "data": {
      "text/html": [
       "<pre style=\"white-space:pre;overflow-x:auto;line-height:normal;font-family:Menlo,'DejaVu Sans Mono',consolas,'Courier New',monospace\">epoch 405: train loss: 0.1377\n",
       "</pre>\n"
      ],
      "text/plain": [
       "epoch 405: train loss: 0.1377\n"
      ]
     },
     "metadata": {},
     "output_type": "display_data"
    },
    {
     "data": {
      "text/html": [
       "<pre style=\"white-space:pre;overflow-x:auto;line-height:normal;font-family:Menlo,'DejaVu Sans Mono',consolas,'Courier New',monospace\">epoch 410: train loss: 0.1368\n",
       "</pre>\n"
      ],
      "text/plain": [
       "epoch 410: train loss: 0.1368\n"
      ]
     },
     "metadata": {},
     "output_type": "display_data"
    },
    {
     "data": {
      "text/html": [
       "<pre style=\"white-space:pre;overflow-x:auto;line-height:normal;font-family:Menlo,'DejaVu Sans Mono',consolas,'Courier New',monospace\">epoch 415: train loss: 0.1513\n",
       "</pre>\n"
      ],
      "text/plain": [
       "epoch 415: train loss: 0.1513\n"
      ]
     },
     "metadata": {},
     "output_type": "display_data"
    },
    {
     "data": {
      "text/html": [
       "<pre style=\"white-space:pre;overflow-x:auto;line-height:normal;font-family:Menlo,'DejaVu Sans Mono',consolas,'Courier New',monospace\">epoch 420: train loss: 0.1474\n",
       "</pre>\n"
      ],
      "text/plain": [
       "epoch 420: train loss: 0.1474\n"
      ]
     },
     "metadata": {},
     "output_type": "display_data"
    },
    {
     "data": {
      "text/html": [
       "<pre style=\"white-space:pre;overflow-x:auto;line-height:normal;font-family:Menlo,'DejaVu Sans Mono',consolas,'Courier New',monospace\">epoch 425: train loss: 0.1523\n",
       "</pre>\n"
      ],
      "text/plain": [
       "epoch 425: train loss: 0.1523\n"
      ]
     },
     "metadata": {},
     "output_type": "display_data"
    },
    {
     "data": {
      "text/html": [
       "<pre style=\"white-space:pre;overflow-x:auto;line-height:normal;font-family:Menlo,'DejaVu Sans Mono',consolas,'Courier New',monospace\">epoch 430: train loss: 0.1463\n",
       "</pre>\n"
      ],
      "text/plain": [
       "epoch 430: train loss: 0.1463\n"
      ]
     },
     "metadata": {},
     "output_type": "display_data"
    },
    {
     "data": {
      "text/html": [
       "<pre style=\"white-space:pre;overflow-x:auto;line-height:normal;font-family:Menlo,'DejaVu Sans Mono',consolas,'Courier New',monospace\">epoch 435: train loss: 0.1317\n",
       "</pre>\n"
      ],
      "text/plain": [
       "epoch 435: train loss: 0.1317\n"
      ]
     },
     "metadata": {},
     "output_type": "display_data"
    },
    {
     "data": {
      "text/html": [
       "<pre style=\"white-space:pre;overflow-x:auto;line-height:normal;font-family:Menlo,'DejaVu Sans Mono',consolas,'Courier New',monospace\">epoch 440: train loss: 0.1735\n",
       "</pre>\n"
      ],
      "text/plain": [
       "epoch 440: train loss: 0.1735\n"
      ]
     },
     "metadata": {},
     "output_type": "display_data"
    },
    {
     "data": {
      "text/html": [
       "<pre style=\"white-space:pre;overflow-x:auto;line-height:normal;font-family:Menlo,'DejaVu Sans Mono',consolas,'Courier New',monospace\">epoch 445: train loss: 0.1392\n",
       "</pre>\n"
      ],
      "text/plain": [
       "epoch 445: train loss: 0.1392\n"
      ]
     },
     "metadata": {},
     "output_type": "display_data"
    },
    {
     "data": {
      "text/html": [
       "<pre style=\"white-space:pre;overflow-x:auto;line-height:normal;font-family:Menlo,'DejaVu Sans Mono',consolas,'Courier New',monospace\">epoch 450: train loss: 0.1407\n",
       "</pre>\n"
      ],
      "text/plain": [
       "epoch 450: train loss: 0.1407\n"
      ]
     },
     "metadata": {},
     "output_type": "display_data"
    },
    {
     "data": {
      "text/html": [
       "<pre style=\"white-space:pre;overflow-x:auto;line-height:normal;font-family:Menlo,'DejaVu Sans Mono',consolas,'Courier New',monospace\">epoch 455: train loss: 0.1350\n",
       "</pre>\n"
      ],
      "text/plain": [
       "epoch 455: train loss: 0.1350\n"
      ]
     },
     "metadata": {},
     "output_type": "display_data"
    },
    {
     "data": {
      "text/html": [
       "<pre style=\"white-space:pre;overflow-x:auto;line-height:normal;font-family:Menlo,'DejaVu Sans Mono',consolas,'Courier New',monospace\">epoch 460: train loss: 0.1346\n",
       "</pre>\n"
      ],
      "text/plain": [
       "epoch 460: train loss: 0.1346\n"
      ]
     },
     "metadata": {},
     "output_type": "display_data"
    },
    {
     "data": {
      "text/html": [
       "<pre style=\"white-space:pre;overflow-x:auto;line-height:normal;font-family:Menlo,'DejaVu Sans Mono',consolas,'Courier New',monospace\">epoch 465: train loss: 0.1388\n",
       "</pre>\n"
      ],
      "text/plain": [
       "epoch 465: train loss: 0.1388\n"
      ]
     },
     "metadata": {},
     "output_type": "display_data"
    },
    {
     "data": {
      "text/html": [
       "<pre style=\"white-space:pre;overflow-x:auto;line-height:normal;font-family:Menlo,'DejaVu Sans Mono',consolas,'Courier New',monospace\">epoch 470: train loss: 0.1447\n",
       "</pre>\n"
      ],
      "text/plain": [
       "epoch 470: train loss: 0.1447\n"
      ]
     },
     "metadata": {},
     "output_type": "display_data"
    },
    {
     "data": {
      "text/html": [
       "<pre style=\"white-space:pre;overflow-x:auto;line-height:normal;font-family:Menlo,'DejaVu Sans Mono',consolas,'Courier New',monospace\">epoch 480: train loss: 0.1173\n",
       "</pre>\n"
      ],
      "text/plain": [
       "epoch 480: train loss: 0.1173\n"
      ]
     },
     "metadata": {},
     "output_type": "display_data"
    },
    {
     "data": {
      "text/html": [
       "<pre style=\"white-space:pre;overflow-x:auto;line-height:normal;font-family:Menlo,'DejaVu Sans Mono',consolas,'Courier New',monospace\">epoch 485: train loss: 0.1170\n",
       "</pre>\n"
      ],
      "text/plain": [
       "epoch 485: train loss: 0.1170\n"
      ]
     },
     "metadata": {},
     "output_type": "display_data"
    },
    {
     "data": {
      "text/html": [
       "<pre style=\"white-space:pre;overflow-x:auto;line-height:normal;font-family:Menlo,'DejaVu Sans Mono',consolas,'Courier New',monospace\">epoch 490: train loss: 0.1287\n",
       "</pre>\n"
      ],
      "text/plain": [
       "epoch 490: train loss: 0.1287\n"
      ]
     },
     "metadata": {},
     "output_type": "display_data"
    },
    {
     "data": {
      "text/html": [
       "<pre style=\"white-space:pre;overflow-x:auto;line-height:normal;font-family:Menlo,'DejaVu Sans Mono',consolas,'Courier New',monospace\">epoch 495: train loss: 0.1511\n",
       "</pre>\n"
      ],
      "text/plain": [
       "epoch 495: train loss: 0.1511\n"
      ]
     },
     "metadata": {},
     "output_type": "display_data"
    },
    {
     "data": {
      "text/html": [
       "<pre style=\"white-space:pre;overflow-x:auto;line-height:normal;font-family:Menlo,'DejaVu Sans Mono',consolas,'Courier New',monospace\">epoch 500: train loss: 0.1589\n",
       "</pre>\n"
      ],
      "text/plain": [
       "epoch 500: train loss: 0.1589\n"
      ]
     },
     "metadata": {},
     "output_type": "display_data"
    },
    {
     "data": {
      "text/html": [
       "<pre style=\"white-space:pre;overflow-x:auto;line-height:normal;font-family:Menlo,'DejaVu Sans Mono',consolas,'Courier New',monospace\"></pre>\n"
      ],
      "text/plain": []
     },
     "metadata": {},
     "output_type": "display_data"
    },
    {
     "data": {
      "text/html": [
       "<pre style=\"white-space:pre;overflow-x:auto;line-height:normal;font-family:Menlo,'DejaVu Sans Mono',consolas,'Courier New',monospace\">\n",
       "</pre>\n"
      ],
      "text/plain": [
       "\n"
      ]
     },
     "metadata": {},
     "output_type": "display_data"
    }
   ],
   "source": [
    "def train_epoch(source_dataloader, target_dataloader, progress, lamb):\n",
    "    total_loss = 0.0\n",
    "    batch_tqdm = progress.add_task(description=f\"batch_progress\", total=len(source_dataloader))\n",
    "\n",
    "    for i, ((source_data, source_label), (target_data, _)) in enumerate(zip(source_dataloader, target_dataloader)):\n",
    "        source_data = source_data.cuda()\n",
    "        source_label = source_label.cuda()\n",
    "        target_data = target_data.cuda()\n",
    "        \n",
    "        mixed_data = torch.cat([source_data, target_data], dim=0)\n",
    "\n",
    "        y, f = classifier(mixed_data)\n",
    "        y_s = y[:source_label.shape[0], :]\n",
    "\n",
    "        cls_loss = criterion(y_s, source_label)\n",
    "        nwd_loss = -nwd(f)\n",
    "        loss = cls_loss + lamb * nwd_loss\n",
    "        total_loss += loss.item()\n",
    "\n",
    "        loss.backward()\n",
    "        optimizer.step()\n",
    "        optimizer.zero_grad()\n",
    "        \n",
    "        progress.advance(batch_tqdm, advance=1)\n",
    "\n",
    "    progress.remove_task(batch_tqdm)\n",
    "    return total_loss / (i + 1)\n",
    "\n",
    "\n",
    "num_epochs = 500\n",
    "best_loss = 1e9\n",
    "\n",
    "with Progress(\n",
    "    TextColumn(\"[progress.description]{task.description}\"), BarColumn(), TextColumn(\"[progress.percentage]{task.percentage:>3.0f}%\"), TimeRemainingColumn(), TimeElapsedColumn()\n",
    ") as progress:\n",
    "    epoch_tqdm = progress.add_task(description=\"epoch progress\", total=num_epochs)\n",
    "    for epoch in range(num_epochs):\n",
    "        lamb = (2 / (1 + np.exp(-10 * (epoch) / num_epochs))) - 1\n",
    "        train_loss = train_epoch(source_dataloader, target_dataloader, progress, lamb=lamb)\n",
    "\n",
    "        progress.advance(epoch_tqdm, advance=1)\n",
    "\n",
    "        if train_loss < best_loss:\n",
    "            best_loss = train_loss\n",
    "            torch.save(classifier.state_dict(), f\"weights/DALN.bin\")\n",
    "            print(\"epoch {:>3d}: train loss: {:6.4f}\".format(epoch+1, train_loss))\n"
   ]
  },
  {
   "cell_type": "markdown",
   "metadata": {},
   "source": [
    "## Inference"
   ]
  },
  {
   "cell_type": "code",
   "execution_count": 9,
   "metadata": {},
   "outputs": [
    {
     "data": {
      "application/vnd.jupyter.widget-view+json": {
       "model_id": "35087483d6994060918c163e0bc9c578",
       "version_major": 2,
       "version_minor": 0
      },
      "text/plain": [
       "Output()"
      ]
     },
     "metadata": {},
     "output_type": "display_data"
    },
    {
     "data": {
      "text/html": [
       "<pre style=\"white-space:pre;overflow-x:auto;line-height:normal;font-family:Menlo,'DejaVu Sans Mono',consolas,'Courier New',monospace\"></pre>\n"
      ],
      "text/plain": []
     },
     "metadata": {},
     "output_type": "display_data"
    },
    {
     "data": {
      "text/html": [
       "<pre style=\"white-space:pre;overflow-x:auto;line-height:normal;font-family:Menlo,'DejaVu Sans Mono',consolas,'Courier New',monospace\">\n",
       "</pre>\n"
      ],
      "text/plain": [
       "\n"
      ]
     },
     "metadata": {},
     "output_type": "display_data"
    }
   ],
   "source": [
    "result = []\n",
    "classifier.eval()\n",
    "\n",
    "with Progress(\n",
    "    TextColumn(\"[progress.description]{task.description}\"), BarColumn(), TextColumn(\"[progress.percentage]{task.percentage:>3.0f}%\"), TimeRemainingColumn(), TimeElapsedColumn()\n",
    ") as progress:\n",
    "    test_tqdm = progress.add_task(description=\"inference progress\", total=len(test_dataloader))\n",
    "    for i, (test_data, _) in enumerate(test_dataloader):\n",
    "        test_data = test_data.cuda()\n",
    "\n",
    "        class_logits, _ = classifier(test_data)\n",
    "\n",
    "        x = torch.argmax(class_logits, dim=1).cpu().detach().numpy()\n",
    "        result.append(x)\n",
    "        progress.advance(test_tqdm)\n",
    "\n",
    "import pandas as pd\n",
    "\n",
    "result = np.concatenate(result)\n",
    "\n",
    "# Generate your submission\n",
    "df = pd.DataFrame({\"id\": np.arange(0, len(result)), \"label\": result})\n",
    "df.to_csv(\"DALN_submission.csv\", index=False)\n"
   ]
  }
 ],
 "metadata": {
  "kernelspec": {
   "display_name": "Python 3",
   "language": "python",
   "name": "python3"
  },
  "language_info": {
   "codemirror_mode": {
    "name": "ipython",
    "version": 3
   },
   "file_extension": ".py",
   "mimetype": "text/x-python",
   "name": "python",
   "nbconvert_exporter": "python",
   "pygments_lexer": "ipython3",
   "version": "3.11.0"
  }
 },
 "nbformat": 4,
 "nbformat_minor": 2
}
