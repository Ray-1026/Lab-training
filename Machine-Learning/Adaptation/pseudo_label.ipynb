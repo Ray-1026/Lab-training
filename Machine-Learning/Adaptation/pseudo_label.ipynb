{
 "cells": [
  {
   "cell_type": "code",
   "execution_count": 1,
   "metadata": {},
   "outputs": [],
   "source": [
    "import cv2\n",
    "import numpy as np\n",
    "import torch\n",
    "import torch.nn as nn\n",
    "import torchvision.transforms as transforms\n",
    "from torchvision.datasets import ImageFolder\n",
    "from torch.utils.data import DataLoader\n",
    "from tqdm import tqdm\n"
   ]
  },
  {
   "cell_type": "code",
   "execution_count": 2,
   "metadata": {},
   "outputs": [],
   "source": [
    "myseed = 6666  # set a random seed for reproducibility\n",
    "torch.backends.cudnn.deterministic = True\n",
    "torch.backends.cudnn.benchmark = False\n",
    "np.random.seed(myseed)\n",
    "torch.manual_seed(myseed)\n",
    "if torch.cuda.is_available():\n",
    "    torch.cuda.manual_seed_all(myseed)"
   ]
  },
  {
   "cell_type": "code",
   "execution_count": 3,
   "metadata": {},
   "outputs": [],
   "source": [
    "source_transform = transforms.Compose(\n",
    "    [\n",
    "        # Turn RGB to grayscale. (Bacause Canny do not support RGB images.)\n",
    "        transforms.Grayscale(),\n",
    "        # cv2 do not support skimage.Image, so we transform it to np.array,\n",
    "        # and then adopt cv2.Canny algorithm.\n",
    "        transforms.Lambda(lambda x: cv2.Canny(np.array(x), 170, 300)),\n",
    "        # Transform np.array back to the skimage.Image.\n",
    "        transforms.ToPILImage(),\n",
    "        # 50% Horizontal Flip. (For Augmentation)\n",
    "        transforms.RandomHorizontalFlip(),\n",
    "        # Rotate +- 15 degrees. (For Augmentation), and filled with zero\n",
    "        # if there's empty pixel after rotation.\n",
    "        transforms.RandomRotation(15, fill=(0,)),\n",
    "        # Transform to tensor for model inputs.\n",
    "        transforms.ToTensor(),\n",
    "    ]\n",
    ")\n",
    "target_transform = transforms.Compose(\n",
    "    [\n",
    "        # Turn RGB to grayscale.\n",
    "        transforms.Grayscale(),\n",
    "        # Resize: size of source data is 32x32, thus we need to\n",
    "        #  enlarge the size of target data from 28x28 to 32x32。\n",
    "        transforms.Resize((32, 32)),\n",
    "        # 50% Horizontal Flip. (For Augmentation)\n",
    "        transforms.RandomHorizontalFlip(),\n",
    "        # Rotate +- 15 degrees. (For Augmentation), and filled with zero\n",
    "        # if there's empty pixel after rotation.\n",
    "        transforms.RandomRotation(15, fill=(0,)),\n",
    "        # Transform to tensor for model inputs.\n",
    "        transforms.ToTensor(),\n",
    "    ]\n",
    ")\n",
    "\n",
    "source_dataset = ImageFolder(\"real_or_drawing/train_data\", transform=source_transform)\n",
    "target_dataset = ImageFolder(\"real_or_drawing/test_data\", transform=target_transform)\n",
    "\n",
    "source_dataloader = DataLoader(source_dataset, batch_size=32, shuffle=True)\n",
    "target_dataloader = DataLoader(target_dataset, batch_size=32, shuffle=True)\n",
    "test_dataloader = DataLoader(target_dataset, batch_size=128, shuffle=False)\n"
   ]
  },
  {
   "cell_type": "markdown",
   "metadata": {},
   "source": [
    "## Model"
   ]
  },
  {
   "cell_type": "code",
   "execution_count": 5,
   "metadata": {},
   "outputs": [],
   "source": [
    "class Classifier(nn.Module):\n",
    "    def __init__(self):\n",
    "        super(Classifier, self).__init__()\n",
    "\n",
    "        self.feature_extractor = nn.Sequential(\n",
    "            nn.Conv2d(1, 64, 3, 1, 1),\n",
    "            nn.BatchNorm2d(64),\n",
    "            nn.ReLU(),\n",
    "            nn.MaxPool2d(2),\n",
    "            nn.Conv2d(64, 128, 3, 1, 1),\n",
    "            nn.BatchNorm2d(128),\n",
    "            nn.ReLU(),\n",
    "            nn.MaxPool2d(2),\n",
    "            nn.Conv2d(128, 256, 3, 1, 1),\n",
    "            nn.BatchNorm2d(256),\n",
    "            nn.ReLU(),\n",
    "            nn.MaxPool2d(2),\n",
    "            nn.Conv2d(256, 256, 3, 1, 1),\n",
    "            nn.BatchNorm2d(256),\n",
    "            nn.ReLU(),\n",
    "            nn.MaxPool2d(2),\n",
    "            nn.Conv2d(256, 512, 3, 1, 1),\n",
    "            nn.BatchNorm2d(512),\n",
    "            nn.ReLU(),\n",
    "            nn.MaxPool2d(2),\n",
    "        )\n",
    "\n",
    "        self.fc = nn.Sequential(\n",
    "            nn.Linear(512, 512),\n",
    "            nn.ReLU(),\n",
    "            nn.Linear(512, 512),\n",
    "            nn.ReLU(),\n",
    "            nn.Linear(512, 10),\n",
    "        )\n",
    "\n",
    "    def forward(self, x):\n",
    "        f = self.feature_extractor(x)\n",
    "        y = self.fc(f.squeeze())\n",
    "\n",
    "        return y, f"
   ]
  },
  {
   "cell_type": "code",
   "execution_count": 7,
   "metadata": {},
   "outputs": [
    {
     "data": {
      "text/plain": [
       "<All keys matched successfully>"
      ]
     },
     "execution_count": 7,
     "metadata": {},
     "output_type": "execute_result"
    }
   ],
   "source": [
    "classifier = Classifier().cuda()\n",
    "\n",
    "classifier.load_state_dict(torch.load(\"weights/DALN.bin\"))"
   ]
  },
  {
   "cell_type": "markdown",
   "metadata": {},
   "source": [
    "## Pseudo Labeling"
   ]
  },
  {
   "cell_type": "code",
   "execution_count": 8,
   "metadata": {},
   "outputs": [
    {
     "name": "stderr",
     "output_type": "stream",
     "text": [
      "Pseudo Labeling: 100%|██████████| 782/782 [10:44<00:00,  1.21it/s]"
     ]
    },
    {
     "name": "stdout",
     "output_type": "stream",
     "text": [
      "\n",
      "Pseudo-labeling finished, 79525 samples generated.\n"
     ]
    },
    {
     "name": "stderr",
     "output_type": "stream",
     "text": [
      "\n"
     ]
    }
   ],
   "source": [
    "threshold = 0.98\n",
    "\n",
    "pseudo_data, pseudo_label = torch.LongTensor([]).cuda(), torch.LongTensor([]).cuda()\n",
    "\n",
    "softmax = nn.Softmax(dim=1)\n",
    "classifier.eval()\n",
    "\n",
    "for (data, label) in tqdm(test_dataloader, desc=\"Pseudo Labeling\"):\n",
    "    with torch.no_grad():\n",
    "        data = data.cuda()\n",
    "        label = label.cuda()\n",
    "        c, _ = classifier(data)\n",
    "        c = softmax(c)\n",
    "        c, label = torch.max(c, 1)\n",
    "        mask = c > threshold\n",
    "        pseudo_data = torch.cat([pseudo_data, data[mask]], dim=0)\n",
    "        pseudo_label = torch.cat([pseudo_label, label[mask]], dim=0)\n",
    "\n",
    "print(\"\\nPseudo-labeling finished, %d samples generated.\" % len(pseudo_data))"
   ]
  },
  {
   "cell_type": "code",
   "execution_count": 9,
   "metadata": {},
   "outputs": [
    {
     "name": "stdout",
     "output_type": "stream",
     "text": [
      "Saving...\n",
      "pseudo_label: torch.Size([79525])\n",
      "pseudo_data: torch.Size([79525, 1, 32, 32])\n"
     ]
    }
   ],
   "source": [
    "print(\"Saving...\")\n",
    "print(f\"pseudo_label: {pseudo_label.shape}\")\n",
    "print(f\"pseudo_data: {pseudo_data.shape}\")\n",
    "\n",
    "np.save(\"DALN_pseudo_label.npy\", pseudo_label.cpu().numpy())\n",
    "np.save(\"DALN_pseudo_data.npy\", pseudo_data.cpu().numpy())"
   ]
  }
 ],
 "metadata": {
  "kernelspec": {
   "display_name": "Python 3",
   "language": "python",
   "name": "python3"
  },
  "language_info": {
   "codemirror_mode": {
    "name": "ipython",
    "version": 3
   },
   "file_extension": ".py",
   "mimetype": "text/x-python",
   "name": "python",
   "nbconvert_exporter": "python",
   "pygments_lexer": "ipython3",
   "version": "3.11.0"
  }
 },
 "nbformat": 4,
 "nbformat_minor": 2
}
